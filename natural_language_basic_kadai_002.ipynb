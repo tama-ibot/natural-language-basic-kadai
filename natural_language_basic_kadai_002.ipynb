{
  "nbformat": 4,
  "nbformat_minor": 0,
  "metadata": {
    "colab": {
      "provenance": [],
      "gpuType": "T4"
    },
    "kernelspec": {
      "name": "python3",
      "display_name": "Python 3"
    },
    "language_info": {
      "name": "python"
    },
    "accelerator": "GPU"
  },
  "cells": [
    {
      "cell_type": "code",
      "execution_count": 2,
      "metadata": {
        "id": "OSXrsFGvT6-D"
      },
      "outputs": [],
      "source": [
        "import re"
      ]
    },
    {
      "cell_type": "code",
      "source": [
        "pip install bs4\n"
      ],
      "metadata": {
        "colab": {
          "base_uri": "https://localhost:8080/"
        },
        "id": "6thZxK8zUP7k",
        "outputId": "fc39cccb-540e-481e-b251-86cee15c5f2c"
      },
      "execution_count": 3,
      "outputs": [
        {
          "output_type": "stream",
          "name": "stdout",
          "text": [
            "Collecting bs4\n",
            "  Downloading bs4-0.0.2-py2.py3-none-any.whl.metadata (411 bytes)\n",
            "Requirement already satisfied: beautifulsoup4 in /usr/local/lib/python3.10/dist-packages (from bs4) (4.12.3)\n",
            "Requirement already satisfied: soupsieve>1.2 in /usr/local/lib/python3.10/dist-packages (from beautifulsoup4->bs4) (2.6)\n",
            "Downloading bs4-0.0.2-py2.py3-none-any.whl (1.2 kB)\n",
            "Installing collected packages: bs4\n",
            "Successfully installed bs4-0.0.2\n"
          ]
        }
      ]
    },
    {
      "cell_type": "code",
      "source": [
        "#『文壇の趨勢』の本文をスクレイピングで取得\n",
        "from bs4 import BeautifulSoup\n",
        "from urllib import request\n",
        "\n",
        "url = 'https://www.aozora.gr.jp/cards/000148/files/2371_13943.html'\n",
        "response = request.urlopen(url)\n",
        "soup = BeautifulSoup(response)\n",
        "response.close()\n",
        "\n",
        "print(soup)\n"
      ],
      "metadata": {
        "colab": {
          "base_uri": "https://localhost:8080/"
        },
        "id": "C75TtW2KURZD",
        "outputId": "8f5e0b16-d3e0-42f5-8707-16dceed1e14e"
      },
      "execution_count": 4,
      "outputs": [
        {
          "output_type": "stream",
          "name": "stdout",
          "text": [
            "<?xml version=\"1.0\" encoding=\"Shift_JIS\"?><!DOCTYPE html PUBLIC \"-//W3C//DTD XHTML 1.1//EN\" \"http://www.w3.org/TR/xhtml11/DTD/xhtml11.dtd\">\n",
            "<html xml:lang=\"ja\" xmlns=\"http://www.w3.org/1999/xhtml\">\n",
            "<head>\n",
            "<meta content=\"text/html;charset=utf-8\" http-equiv=\"Content-Type\"/>\n",
            "<meta content=\"text/css\" http-equiv=\"content-style-type\"/>\n",
            "<link href=\"../../default.css\" rel=\"stylesheet\" type=\"text/css\"/>\n",
            "<title>夏目漱石 文壇の趨勢</title>\n",
            "<link href=\"http://purl.org/dc/elements/1.1/\" rel=\"DC.Schema\"/>\n",
            "<meta content=\"夏目漱石\" name=\"DC.Creator\"/>\n",
            "<meta content=\"青空文庫\" name=\"DC.Publisher\"/>\n",
            "</head>\n",
            "<body>\n",
            "<h1 class=\"title\">文壇の趨勢</h1>\n",
            "<h2 class=\"author\">夏目漱石</h2>\n",
            "<div class=\"main_text\">\n",
            "<br/>\n",
            "<br/>\n",
            "<br/>\r\n",
            "　近頃は大分方々の雑誌から談話をしろしろと責められて、頭ががらん胴になったから、当分品切れの看板でも<ruby><rb>懸</rb><rp>（</rp><rt>か</rt><rp>）</rp></ruby>けたいくらいに思っています。現に今日も一軒断わりました。向後日本の文壇はどう変化するかなどという大問題はなかなか分りにくい。いわんや二三日前まで『<strong class=\"SESAME_DOT\">文学評論</strong>』の訂正をしていて、頭が<ruby><rb>痺</rb><rp>（</rp><rt>しび</rt><rp>）</rp></ruby>れたように疲れているから、<ruby><rb>早速</rb><rp>（</rp><rt>さっそく</rt><rp>）</rp></ruby>に分別も浮びません。それに似寄った事をせんだってごく簡略に『<strong class=\"SESAME_DOT\">秀才文壇</strong>』の人に話してしまった。あいにくこの方面も種切れです。が、まあせっかくだから――いつおいでになっても、私の談話が御役に立った試がないようだから――つまらん事でも責任逃れに話しましょう。<br/>\r\n",
            "　私が小説を書き出したのは、何年前からか<ruby><rb>確</rb><rp>（</rp><rt>しか</rt><rp>）</rp></ruby>と覚えてもいないが、けっして古くはない。見方によればごく近頃であると云ってもよろしい。しかるに我が文壇の潮流は非常に急なもので、私よりあとから、小説家として、世にあらわれ、また一般から作家として認められたものが大分ある。今も続々出つつあるように思われる。私は多忙な身だから、ほかの人の作を一々通読する暇がない。たてこんで来ると、つい読み損って、それぎりにする事もあるが、できるだけは参考のため、研究のため、あるいは興味のため、目を通して見る。ところが年一年と日を経るに従って、みんな面白い。だんだん老熟の手腕が短篇のうちに行き渡って来たように思われる。妙な比較をするようだけれども近来日本の雑誌に出る創作物の価値は、英国の通俗雑誌に掲載せられる短篇ものよりも、ずっと程度の高いものと自分は信じている。だから日本の文壇は前途多望、大いに楽観すべき現象に<ruby><rb>充</rb><rp>（</rp><rt>み</rt><rp>）</rp></ruby>ちていると思います。<br/>\r\n",
            "　そこで今云った通り新参の私のあとから、すでに四五人の新進作家が出るくらいだから、そのあとからもまた出て来るに違ない。現に出つつあるんでしょう。また未来に出ようとして待ち構えている人も定めて多い事だろうと思います。して見るとこれらの四五の新進作家――必ずしもこれらの人に限る必要はないが――はまた新らしい競争者を得らるる事と信ずる。<br/>\r\n",
            "　この競争者の出かたである。出かたに二た通りある。一つは自分の<ruby><rb>縄張</rb><rp>（</rp><rt>なわばり</rt><rp>）</rp></ruby>うちへ<ruby><rb>這入</rb><rp>（</rp><rt>はい</rt><rp>）</rp></ruby>って来て、似寄った武器と、同種の兵法剣術で競争をやる。元来競争となるとたいていの場合は同種同類に限るようです。同種同類でないと、本当の比較ができないからでもあるし、ひとつ、あいつを乗り越してやろうと云う時は、裏道があってもかえって気がつかないで、やっぱり当の敵の向うに見える本街道をあとを慕って<ruby><rb>走</rb><rp>（</rp><rt>か</rt><rp>）</rp></ruby>け出すのが心理的に普通な状態であります。すると同圏内で競争が起ります。この競争の刺激によって、作物がだんだん深さを増して来る。種類が同じだから深さ以外に競争のしようがないのであります。<br/>\r\n",
            "　今一つの競争は圏外に新手が出る事であります。これから新たに文壇に顔を出そうと機を<ruby><rb>覗</rb><rp>（</rp><rt>ねら</rt><rp>）</rp></ruby>っている人、もしくはすでに打って出た人のうちで、今までのものとは径路を同じゅうする事を好まない事がないとも限らない。これは今までの作物に飽き足らぬか、もしくは、おれはおれだから是非一派を立てて見せると自己の特色に自信をおくか、または世間の注意を<ruby><rb>惹</rb><rp>（</rp><rt>ひ</rt><rp>）</rp></ruby>くには何か異様な武者ぶりを見せないと効力が少ないとか、いろいろの動機から起るだろうが、要するに<ruby><rb>模擬者</rb><rp>（</rp><rt>もぎしゃ</rt><rp>）</rp></ruby>でもなければ、同圏内の競争者でもない。すなわち圏外の敵である。この種の競争者が出て来ると、文壇の刺激は種類と種類の間に起る。種類が多ければ多いほど文壇は多趣多様になって、互に<ruby><rb>競</rb><rp>（</rp><rt>せ</rt><rp>）</rp></ruby>り<ruby><rb>合</rb><rp>（</rp><rt>あい</rt><rp>）</rp></ruby>が始まる訳である。<br/>\r\n",
            "　もしこの二種類の競争すなわち圏の内外に互に競争が同時に起るとすると、向後吾人の受くる作物は、この両個の刺激からして、在来のはますます在来の方向で深く発達したもの、新興のは新興の領分で出来得る限りを開拓して変化を添えるようなものになる。もっとも圏外の競争が<ruby><rb>烈</rb><rp>（</rp><rt>はげ</rt><rp>）</rp></ruby>しくなると、圏内の競争は比較的穏かになる。また圏内の競争が烈しい時は、比較的圏外が平和である。<br/>\r\n",
            "　圏内の競争が烈しくなるか、圏外の競争が烈しくなるか、どちらに傾くかは、読書界の傾向で大部きめられる問題であります。もし読書界が把住性が強くって、在来の作物からなお或物を予期しつつある間は、圏内の競争の方が烈しい。また読書界が推移性に支配されつつあって、何か新発展を希望する場合には圏外に優勢なものがあらわれ勝になる。もし読書界が両分されて半々になるときは圏内圏外共に相応の競争があって、相応の読者を有する訳になります。私は実際の作物にあたって、とかくの評をする事をしない。したがって向後の読書界がどういう作物をどう歓迎するかも云えない。ただ形式ばかりの話ではなはだつまらないが、各自この形式を実地にあてはめて見たらいろいろな鑑定ができるだろうと思う。<br/>\r\n",
            "　競争はとうてい<ruby><rb>免</rb><rp>（</rp><rt>まぬ</rt><rp>）</rp></ruby>がれない。また競争がなければ作物は進歩しない。今日の作物がこれまで進歩したのは作家の天分にもよるだろうけれども大部分は競争の賜物だろうと考えます。英国の政党が立憲政治の始まった時から二派に分れている。あれは偶然のような必然のような歴史を有しているが相互に相互を研究し啓発すると云う大原則を政治上にうまく応用したものであります。もっともこれは圏外の競争の意味である。そうして、日本の作物が<ruby><rb>輓近</rb><rp>（</rp><rt>ばんきん</rt><rp>）</rp></ruby>四五年間に大変進歩したのは、全くこの圏外の競争心の結果ではなかろうかと思われる。<br/>\r\n",
            "　圏外の競争は一方において<ruby><rb>反撥</rb><rp>（</rp><rt>はんぱつ</rt><rp>）</rp></ruby>を意味している。けれどもその反撥の裏面には同化の芽を含んでいる。反撥すると云う事がすでに対者を知らねばできない事になる。対者を知るためには一種の研究をしなければならない。その研究をして反撥し合っているうちに対者の立場やら長所やらを自然と認めなければならないようになる。その時にある程度の同化はどうしても起るべきはずである。文壇がこの期に達した時には混戦の状態に<ruby><rb>陥</rb><rp>（</rp><rt>おち</rt><rp>）</rp></ruby>いる。混戦の状態に陥ると一騎打の競争よりほかになくなってしまう。日本の文壇がすでに混戦時代に達したか、あるいは達せんとしつつあるかは読者の判断に任せておきます。<br/>\r\n",
            "　いわゆる文明社界に住む人の特色は何だと<ruby><rb>纏</rb><rp>（</rp><rt>まと</rt><rp>）</rp></ruby>めて云って御覧なさい。私にはこう見える。いわゆる文明社会に住む人は誰を<ruby><rb>捉</rb><rp>（</rp><rt>つか</rt><rp>）</rp></ruby>まえてもたいてい同じである。教育の程度、知識の範囲、その他いろいろの資格において、ほぼ似通っている。だから誰かれの差別はない。皆同じである。が同時に一方から見ると文明社会に住む人ほど個人主義なものはない。どこまでも我は我で通している。人の威圧やら束縛をけっして<ruby><rb>肯</rb><rp>（</rp><rt>うけが</rt><rp>）</rp></ruby>わない。信仰の点においても、趣味の点においても、あらゆる意見においても、かつて雷同附和の必要を認めない。また<ruby><rb>阿諛迎合</rb><rp>（</rp><rt>あゆげいごう</rt><rp>）</rp></ruby>の必要を認めない。してみるといわゆる文明社界に生息している人間ほど平等的なるものはなく、また個人的なるものはない。すでに平等的である以上は圏を画して圏内圏外の別を説く必要はない。英国の二大政党のごときは単に採決に<ruby><rb>便宜</rb><rp>（</rp><rt>べんぎ</rt><rp>）</rp></ruby>なる約束的の団隊と<ruby><rb>見傚</rb><rp>（</rp><rt>みな</rt><rp>）</rp></ruby>して<ruby><rb>差支</rb><rp>（</rp><rt>さしつかえ</rt><rp>）</rp></ruby>ない。またすでに個人的である以上はどこまでも自己の特色を自己の特色として保存する必要がある。<br/>\r\n",
            "　文壇の諸公をいわゆる文明社会に住む人と見傚せば、勢いこの性質を具していなければならない。人間としてこの性質を帯びている以上は作物の上にも早晩この性質を発揮するのが天下の<ruby><rb>趨勢</rb><rp>（</rp><rt>すうせい</rt><rp>）</rp></ruby>である。いわゆる混戦時代が始まって、<ruby><rb>彼我</rb><rp>（</rp><rt>ひが</rt><rp>）</rp></ruby>相通じ、しかも彼我相守り、自己の特色を失わざると共に、同圏異圏の臭味を帯びざるようになった暁が、わが文壇の歴史に一段落を告げる時ではなかろうかと思います。<br/>\n",
            "<br/>\n",
            "<br/>\n",
            "<br/>\n",
            "</div>\n",
            "<div class=\"bibliographical_information\">\n",
            "<hr/>\n",
            "<br/>\r\n",
            "底本：「夏目漱石全集10」ちくま文庫、筑摩書房\r\n",
            "<br/>\r\n",
            "　　　1988（昭和63）年7月26日第1刷発行<br/>\r\n",
            "底本の親本：「筑摩全集類聚版夏目漱石全集」筑摩書房<br/>\r\n",
            "　　　1971（昭和46）年4月〜1972（昭和47）年1月にかけて刊行<br/>\r\n",
            "入力：柴田卓治<br/>\r\n",
            "校正：大野晋<br/>\r\n",
            "1999年6月14日公開<br/>\r\n",
            "2003年11月28日修正<br/>\r\n",
            "青空文庫作成ファイル：<br/>\r\n",
            "このファイルは、インターネットの図書館、<a href=\"http://www.aozora.gr.jp/\">青空文庫（http://www.aozora.gr.jp/）</a>で作られました。入力、校正、制作にあたったのは、ボランティアの皆さんです。<br/>\n",
            "<br/>\n",
            "</div>\n",
            "<div class=\"notation_notes\">\n",
            "<hr/>\n",
            "<br/>\r\n",
            "●表記について<br/>\n",
            "<ul>\n",
            "<li>このファイルは W3C 勧告 XHTML1.1 にそった形式で作成されています。</li>\n",
            "<li>傍点や圏点、傍線の付いた文字は、強調表示にしました。</li>\n",
            "</ul>\n",
            "</div>\n",
            "</body>\n",
            "</html>\n",
            "\n"
          ]
        },
        {
          "output_type": "stream",
          "name": "stderr",
          "text": [
            "<ipython-input-4-4ad05df0eaad>:7: XMLParsedAsHTMLWarning: It looks like you're parsing an XML document using an HTML parser. If this really is an HTML document (maybe it's XHTML?), you can ignore or filter this warning. If it's XML, you should know that using an XML parser will be more reliable. To parse this document as XML, make sure you have the lxml package installed, and pass the keyword argument `features=\"xml\"` into the BeautifulSoup constructor.\n",
            "  soup = BeautifulSoup(response)\n"
          ]
        }
      ]
    },
    {
      "cell_type": "code",
      "source": [
        "#メインテキストのみ抽出\n",
        "main_text = soup.find('div', class_='main_text')\n",
        "\n",
        "#ルビ等のタグを削除\n",
        "tags_to_delete = main_text.find_all(['rp', 'rt'])\n",
        "for tag in tags_to_delete:\n",
        "    tag.decompose()\n",
        "\n",
        "#get.textでテキスト抽出\n",
        "main_text = main_text.get_text()\n",
        "\n",
        "#正規表現でクリーニング\n",
        "main_text = re.sub(r\"[\\u3000 \\n \\r]\", \"\", main_text)\n",
        "\n",
        "print(main_text)"
      ],
      "metadata": {
        "colab": {
          "base_uri": "https://localhost:8080/"
        },
        "id": "XKk1MgARUTva",
        "outputId": "70489957-cdf8-4ce1-86c6-aa55de5e091e"
      },
      "execution_count": 5,
      "outputs": [
        {
          "output_type": "stream",
          "name": "stdout",
          "text": [
            "近頃は大分方々の雑誌から談話をしろしろと責められて、頭ががらん胴になったから、当分品切れの看板でも懸けたいくらいに思っています。現に今日も一軒断わりました。向後日本の文壇はどう変化するかなどという大問題はなかなか分りにくい。いわんや二三日前まで『文学評論』の訂正をしていて、頭が痺れたように疲れているから、早速に分別も浮びません。それに似寄った事をせんだってごく簡略に『秀才文壇』の人に話してしまった。あいにくこの方面も種切れです。が、まあせっかくだから――いつおいでになっても、私の談話が御役に立った試がないようだから――つまらん事でも責任逃れに話しましょう。私が小説を書き出したのは、何年前からか確と覚えてもいないが、けっして古くはない。見方によればごく近頃であると云ってもよろしい。しかるに我が文壇の潮流は非常に急なもので、私よりあとから、小説家として、世にあらわれ、また一般から作家として認められたものが大分ある。今も続々出つつあるように思われる。私は多忙な身だから、ほかの人の作を一々通読する暇がない。たてこんで来ると、つい読み損って、それぎりにする事もあるが、できるだけは参考のため、研究のため、あるいは興味のため、目を通して見る。ところが年一年と日を経るに従って、みんな面白い。だんだん老熟の手腕が短篇のうちに行き渡って来たように思われる。妙な比較をするようだけれども近来日本の雑誌に出る創作物の価値は、英国の通俗雑誌に掲載せられる短篇ものよりも、ずっと程度の高いものと自分は信じている。だから日本の文壇は前途多望、大いに楽観すべき現象に充ちていると思います。そこで今云った通り新参の私のあとから、すでに四五人の新進作家が出るくらいだから、そのあとからもまた出て来るに違ない。現に出つつあるんでしょう。また未来に出ようとして待ち構えている人も定めて多い事だろうと思います。して見るとこれらの四五の新進作家――必ずしもこれらの人に限る必要はないが――はまた新らしい競争者を得らるる事と信ずる。この競争者の出かたである。出かたに二た通りある。一つは自分の縄張うちへ這入って来て、似寄った武器と、同種の兵法剣術で競争をやる。元来競争となるとたいていの場合は同種同類に限るようです。同種同類でないと、本当の比較ができないからでもあるし、ひとつ、あいつを乗り越してやろうと云う時は、裏道があってもかえって気がつかないで、やっぱり当の敵の向うに見える本街道をあとを慕って走け出すのが心理的に普通な状態であります。すると同圏内で競争が起ります。この競争の刺激によって、作物がだんだん深さを増して来る。種類が同じだから深さ以外に競争のしようがないのであります。今一つの競争は圏外に新手が出る事であります。これから新たに文壇に顔を出そうと機を覗っている人、もしくはすでに打って出た人のうちで、今までのものとは径路を同じゅうする事を好まない事がないとも限らない。これは今までの作物に飽き足らぬか、もしくは、おれはおれだから是非一派を立てて見せると自己の特色に自信をおくか、または世間の注意を惹くには何か異様な武者ぶりを見せないと効力が少ないとか、いろいろの動機から起るだろうが、要するに模擬者でもなければ、同圏内の競争者でもない。すなわち圏外の敵である。この種の競争者が出て来ると、文壇の刺激は種類と種類の間に起る。種類が多ければ多いほど文壇は多趣多様になって、互に競り合が始まる訳である。もしこの二種類の競争すなわち圏の内外に互に競争が同時に起るとすると、向後吾人の受くる作物は、この両個の刺激からして、在来のはますます在来の方向で深く発達したもの、新興のは新興の領分で出来得る限りを開拓して変化を添えるようなものになる。もっとも圏外の競争が烈しくなると、圏内の競争は比較的穏かになる。また圏内の競争が烈しい時は、比較的圏外が平和である。圏内の競争が烈しくなるか、圏外の競争が烈しくなるか、どちらに傾くかは、読書界の傾向で大部きめられる問題であります。もし読書界が把住性が強くって、在来の作物からなお或物を予期しつつある間は、圏内の競争の方が烈しい。また読書界が推移性に支配されつつあって、何か新発展を希望する場合には圏外に優勢なものがあらわれ勝になる。もし読書界が両分されて半々になるときは圏内圏外共に相応の競争があって、相応の読者を有する訳になります。私は実際の作物にあたって、とかくの評をする事をしない。したがって向後の読書界がどういう作物をどう歓迎するかも云えない。ただ形式ばかりの話ではなはだつまらないが、各自この形式を実地にあてはめて見たらいろいろな鑑定ができるだろうと思う。競争はとうてい免がれない。また競争がなければ作物は進歩しない。今日の作物がこれまで進歩したのは作家の天分にもよるだろうけれども大部分は競争の賜物だろうと考えます。英国の政党が立憲政治の始まった時から二派に分れている。あれは偶然のような必然のような歴史を有しているが相互に相互を研究し啓発すると云う大原則を政治上にうまく応用したものであります。もっともこれは圏外の競争の意味である。そうして、日本の作物が輓近四五年間に大変進歩したのは、全くこの圏外の競争心の結果ではなかろうかと思われる。圏外の競争は一方において反撥を意味している。けれどもその反撥の裏面には同化の芽を含んでいる。反撥すると云う事がすでに対者を知らねばできない事になる。対者を知るためには一種の研究をしなければならない。その研究をして反撥し合っているうちに対者の立場やら長所やらを自然と認めなければならないようになる。その時にある程度の同化はどうしても起るべきはずである。文壇がこの期に達した時には混戦の状態に陥いる。混戦の状態に陥ると一騎打の競争よりほかになくなってしまう。日本の文壇がすでに混戦時代に達したか、あるいは達せんとしつつあるかは読者の判断に任せておきます。いわゆる文明社界に住む人の特色は何だと纏めて云って御覧なさい。私にはこう見える。いわゆる文明社会に住む人は誰を捉まえてもたいてい同じである。教育の程度、知識の範囲、その他いろいろの資格において、ほぼ似通っている。だから誰かれの差別はない。皆同じである。が同時に一方から見ると文明社会に住む人ほど個人主義なものはない。どこまでも我は我で通している。人の威圧やら束縛をけっして肯わない。信仰の点においても、趣味の点においても、あらゆる意見においても、かつて雷同附和の必要を認めない。また阿諛迎合の必要を認めない。してみるといわゆる文明社界に生息している人間ほど平等的なるものはなく、また個人的なるものはない。すでに平等的である以上は圏を画して圏内圏外の別を説く必要はない。英国の二大政党のごときは単に採決に便宜なる約束的の団隊と見傚して差支ない。またすでに個人的である以上はどこまでも自己の特色を自己の特色として保存する必要がある。文壇の諸公をいわゆる文明社会に住む人と見傚せば、勢いこの性質を具していなければならない。人間としてこの性質を帯びている以上は作物の上にも早晩この性質を発揮するのが天下の趨勢である。いわゆる混戦時代が始まって、彼我相通じ、しかも彼我相守り、自己の特色を失わざると共に、同圏異圏の臭味を帯びざるようになった暁が、わが文壇の歴史に一段落を告げる時ではなかろうかと思います。\n"
          ]
        }
      ]
    },
    {
      "cell_type": "markdown",
      "source": [
        "メインテキストの作成完了\n"
      ],
      "metadata": {
        "id": "e35kPsQ_UXDW"
      }
    },
    {
      "cell_type": "code",
      "source": [
        "!pip install mecab-python3\n"
      ],
      "metadata": {
        "colab": {
          "base_uri": "https://localhost:8080/"
        },
        "id": "UXFbwC7PUcOh",
        "outputId": "c9ee7b0e-f93c-4f16-a348-b1fb11bfec53"
      },
      "execution_count": 6,
      "outputs": [
        {
          "output_type": "stream",
          "name": "stdout",
          "text": [
            "Collecting mecab-python3\n",
            "  Downloading mecab_python3-1.0.10-cp310-cp310-manylinux_2_17_x86_64.manylinux2014_x86_64.whl.metadata (6.2 kB)\n",
            "Downloading mecab_python3-1.0.10-cp310-cp310-manylinux_2_17_x86_64.manylinux2014_x86_64.whl (581 kB)\n",
            "\u001b[?25l   \u001b[90m━━━━━━━━━━━━━━━━━━━━━━━━━━━━━━━━━━━━━━━━\u001b[0m \u001b[32m0.0/581.7 kB\u001b[0m \u001b[31m?\u001b[0m eta \u001b[36m-:--:--\u001b[0m\r\u001b[2K   \u001b[91m━━━━━━━━━━━━━━\u001b[0m\u001b[90m╺\u001b[0m\u001b[90m━━━━━━━━━━━━━━━━━━━━━━━━━\u001b[0m \u001b[32m204.8/581.7 kB\u001b[0m \u001b[31m5.9 MB/s\u001b[0m eta \u001b[36m0:00:01\u001b[0m\r\u001b[2K   \u001b[90m━━━━━━━━━━━━━━━━━━━━━━━━━━━━━━━━━━━━━━━━\u001b[0m \u001b[32m581.7/581.7 kB\u001b[0m \u001b[31m10.1 MB/s\u001b[0m eta \u001b[36m0:00:00\u001b[0m\n",
            "\u001b[?25hInstalling collected packages: mecab-python3\n",
            "Successfully installed mecab-python3-1.0.10\n"
          ]
        }
      ]
    },
    {
      "cell_type": "code",
      "source": [
        "!pip install unidic-lite\n"
      ],
      "metadata": {
        "colab": {
          "base_uri": "https://localhost:8080/"
        },
        "id": "A48pQjBfUd5M",
        "outputId": "83760206-ba4a-4960-d83b-01bec84fbf42"
      },
      "execution_count": 7,
      "outputs": [
        {
          "output_type": "stream",
          "name": "stdout",
          "text": [
            "Collecting unidic-lite\n",
            "  Downloading unidic-lite-1.0.8.tar.gz (47.4 MB)\n",
            "\u001b[2K     \u001b[90m━━━━━━━━━━━━━━━━━━━━━━━━━━━━━━━━━━━━━━━━\u001b[0m \u001b[32m47.4/47.4 MB\u001b[0m \u001b[31m20.4 MB/s\u001b[0m eta \u001b[36m0:00:00\u001b[0m\n",
            "\u001b[?25h  Preparing metadata (setup.py) ... \u001b[?25l\u001b[?25hdone\n",
            "Building wheels for collected packages: unidic-lite\n",
            "  Building wheel for unidic-lite (setup.py) ... \u001b[?25l\u001b[?25hdone\n",
            "  Created wheel for unidic-lite: filename=unidic_lite-1.0.8-py3-none-any.whl size=47658818 sha256=ec4022b1debcb7c9af58a6cccb99647ea8cf018a003a51366cf97a97bac6021b\n",
            "  Stored in directory: /root/.cache/pip/wheels/89/e8/68/f9ac36b8cc6c8b3c96888cd57434abed96595d444f42243853\n",
            "Successfully built unidic-lite\n",
            "Installing collected packages: unidic-lite\n",
            "Successfully installed unidic-lite-1.0.8\n"
          ]
        }
      ]
    },
    {
      "cell_type": "code",
      "source": [
        "import MeCab\n",
        "\n",
        "MeCab_tagger = MeCab.Tagger()\n",
        "text  = \"近頃は大分方々の雑誌から談話をしろしろと責められて、頭ががらん胴になったから、当分品切れの看板でも懸けたいくらいに思っています。\"\n",
        "node =MeCab_tagger.parseToNode(text)\n",
        "\n",
        "#助詞と助動詞を除いた単語を格納するリスト\n",
        "filtered_word = []\n",
        "\n",
        "while node:\n",
        "  surface = node.surface\n",
        "  feature = node.feature.split(\",\")\n",
        "  #カンマでsplitさせるのは、feature属性が単語に関する情報をカンマ区切りでリストとして取得するため。\n",
        "  #リストとして取得することで、if分の中でインデックス[0]が指定できるようになる。\n",
        "  #feature属性の一つ目は品詞情報のため、if文では品詞が助詞か助動詞じゃないことを確認することができる。\n",
        "\n",
        "  if feature[0] not in [\"助詞\",\"助動詞\"] and surface:\n",
        "    filtered_word.append(surface)\n",
        "\n",
        "  node = node.next\n",
        "\n",
        "print(\" \".join(filtered_word))"
      ],
      "metadata": {
        "colab": {
          "base_uri": "https://localhost:8080/"
        },
        "id": "EGNUJeqDUk8F",
        "outputId": "eb3ce185-a1de-4d11-e02b-413d2103e13b"
      },
      "execution_count": 9,
      "outputs": [
        {
          "output_type": "stream",
          "name": "stdout",
          "text": [
            "近頃 大分 方々 雑誌 談話 しろ しろ 責め 、 頭 がらん 胴 なっ 、 当分 品切れ 看板 懸け 思っ い 。\n"
          ]
        }
      ]
    }
  ]
}